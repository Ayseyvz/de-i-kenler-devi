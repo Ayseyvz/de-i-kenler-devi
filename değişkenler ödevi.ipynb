{
 "cells": [
  {
   "cell_type": "markdown",
   "id": "032d81b2",
   "metadata": {},
   "source": [
    "**Ödev-1** \n",
    "x = 3 ----> floata çevirelim. Çevirdikten sonra beri tipinide yazdıralım.\n",
    "\n",
    "y = 4.5 -----> integere çevirelim. Çevirdikten sonra beri tipinide yazdıralım.\n",
    "\n",
    "z = \"8\" -----> integera çevirelim. Çevirdikten sonra beri tipinide yazdıralım.\n",
    "\n",
    "a = \"12\" -----> floata çevirelim. Çevirdikten sonra beri tipinide yazdıralım.\n",
    "\n",
    "b = \"46.8\" ------> integera çevirelim. Çevirdikten sonra beri tipinide yazdıralım."
   ]
  },
  {
   "cell_type": "code",
   "execution_count": 1,
   "id": "4c876ef6-dbf9-49d7-af0e-1b4929f62b68",
   "metadata": {},
   "outputs": [],
   "source": [
    "x = 3"
   ]
  },
  {
   "cell_type": "code",
   "execution_count": 2,
   "id": "f1b735c0",
   "metadata": {},
   "outputs": [
    {
     "data": {
      "text/plain": [
       "int"
      ]
     },
     "execution_count": 2,
     "metadata": {},
     "output_type": "execute_result"
    }
   ],
   "source": [
    "type(x)"
   ]
  },
  {
   "cell_type": "code",
   "execution_count": 3,
   "id": "45ab328e",
   "metadata": {},
   "outputs": [],
   "source": [
    "x = float(x)"
   ]
  },
  {
   "cell_type": "code",
   "execution_count": 4,
   "id": "d5577854",
   "metadata": {},
   "outputs": [
    {
     "data": {
      "text/plain": [
       "float"
      ]
     },
     "execution_count": 4,
     "metadata": {},
     "output_type": "execute_result"
    }
   ],
   "source": [
    "type(x)"
   ]
  },
  {
   "cell_type": "code",
   "execution_count": 5,
   "id": "d15928bb",
   "metadata": {},
   "outputs": [],
   "source": [
    "y = 4.5"
   ]
  },
  {
   "cell_type": "code",
   "execution_count": 6,
   "id": "3df0237e",
   "metadata": {},
   "outputs": [],
   "source": [
    "y = int(y)"
   ]
  },
  {
   "cell_type": "code",
   "execution_count": 7,
   "id": "670b75f6",
   "metadata": {},
   "outputs": [
    {
     "data": {
      "text/plain": [
       "int"
      ]
     },
     "execution_count": 7,
     "metadata": {},
     "output_type": "execute_result"
    }
   ],
   "source": [
    "type(y)"
   ]
  },
  {
   "cell_type": "code",
   "execution_count": 8,
   "id": "2c434c8f",
   "metadata": {},
   "outputs": [],
   "source": [
    "z = \"8\""
   ]
  },
  {
   "cell_type": "code",
   "execution_count": 9,
   "id": "086dca37",
   "metadata": {},
   "outputs": [
    {
     "data": {
      "text/plain": [
       "str"
      ]
     },
     "execution_count": 9,
     "metadata": {},
     "output_type": "execute_result"
    }
   ],
   "source": [
    "type(z)"
   ]
  },
  {
   "cell_type": "code",
   "execution_count": 10,
   "id": "d8be8664",
   "metadata": {},
   "outputs": [],
   "source": [
    "z = int(z) "
   ]
  },
  {
   "cell_type": "code",
   "execution_count": 11,
   "id": "404a12a6",
   "metadata": {},
   "outputs": [
    {
     "data": {
      "text/plain": [
       "int"
      ]
     },
     "execution_count": 11,
     "metadata": {},
     "output_type": "execute_result"
    }
   ],
   "source": [
    "type(z)"
   ]
  },
  {
   "cell_type": "code",
   "execution_count": 12,
   "id": "186e684c",
   "metadata": {},
   "outputs": [],
   "source": [
    "a = \"12\""
   ]
  },
  {
   "cell_type": "code",
   "execution_count": 13,
   "id": "cdeb5594",
   "metadata": {},
   "outputs": [
    {
     "data": {
      "text/plain": [
       "str"
      ]
     },
     "execution_count": 13,
     "metadata": {},
     "output_type": "execute_result"
    }
   ],
   "source": [
    "type(a)"
   ]
  },
  {
   "cell_type": "code",
   "execution_count": 15,
   "id": "eff87b2b",
   "metadata": {},
   "outputs": [],
   "source": [
    "a = float(a)"
   ]
  },
  {
   "cell_type": "code",
   "execution_count": 16,
   "id": "8716367e",
   "metadata": {},
   "outputs": [
    {
     "data": {
      "text/plain": [
       "float"
      ]
     },
     "execution_count": 16,
     "metadata": {},
     "output_type": "execute_result"
    }
   ],
   "source": [
    "type(a)"
   ]
  },
  {
   "cell_type": "code",
   "execution_count": 14,
   "id": "e045813c",
   "metadata": {},
   "outputs": [],
   "source": [
    "b = \"48.6\""
   ]
  },
  {
   "cell_type": "code",
   "execution_count": 17,
   "id": "852bd525",
   "metadata": {},
   "outputs": [
    {
     "data": {
      "text/plain": [
       "str"
      ]
     },
     "execution_count": 17,
     "metadata": {},
     "output_type": "execute_result"
    }
   ],
   "source": [
    "type(b)"
   ]
  },
  {
   "cell_type": "code",
   "execution_count": 18,
   "id": "711f6412",
   "metadata": {},
   "outputs": [],
   "source": [
    "b = int(float(b))"
   ]
  },
  {
   "cell_type": "code",
   "execution_count": 19,
   "id": "d90fd67e",
   "metadata": {},
   "outputs": [
    {
     "data": {
      "text/plain": [
       "int"
      ]
     },
     "execution_count": 19,
     "metadata": {},
     "output_type": "execute_result"
    }
   ],
   "source": [
    "type(b)"
   ]
  },
  {
   "cell_type": "markdown",
   "id": "95509718",
   "metadata": {},
   "source": [
    "**Ödev-2:**\n",
    "İsimlerden oluşan üç değişkene yaş değerleri atanır. Belirlenen üç değişken birbiriyle karşılaştırma operatörleri ile karşılaştırılır. Bu karşılaştırmalara mantıksal operatörler de eklenir."
   ]
  },
  {
   "cell_type": "code",
   "execution_count": 21,
   "id": "50f77b4f",
   "metadata": {},
   "outputs": [],
   "source": [
    "aslı = 21\n",
    "burak = 22\n",
    "emine = 25"
   ]
  },
  {
   "cell_type": "code",
   "execution_count": 27,
   "id": "62cb0e66",
   "metadata": {},
   "outputs": [
    {
     "data": {
      "text/plain": [
       "False"
      ]
     },
     "execution_count": 27,
     "metadata": {},
     "output_type": "execute_result"
    }
   ],
   "source": [
    "aslı > burak"
   ]
  },
  {
   "cell_type": "code",
   "execution_count": 23,
   "id": "96d83cc1",
   "metadata": {},
   "outputs": [
    {
     "data": {
      "text/plain": [
       "True"
      ]
     },
     "execution_count": 23,
     "metadata": {},
     "output_type": "execute_result"
    }
   ],
   "source": [
    "burak < emine"
   ]
  },
  {
   "cell_type": "code",
   "execution_count": 24,
   "id": "f7da5889",
   "metadata": {},
   "outputs": [
    {
     "data": {
      "text/plain": [
       "False"
      ]
     },
     "execution_count": 24,
     "metadata": {},
     "output_type": "execute_result"
    }
   ],
   "source": [
    "aslı == emine"
   ]
  },
  {
   "cell_type": "code",
   "execution_count": 29,
   "id": "7330a49c",
   "metadata": {},
   "outputs": [
    {
     "data": {
      "text/plain": [
       "True"
      ]
     },
     "execution_count": 29,
     "metadata": {},
     "output_type": "execute_result"
    }
   ],
   "source": [
    "aslı < burak and burak < emine"
   ]
  },
  {
   "cell_type": "code",
   "execution_count": 30,
   "id": "f6a625d3",
   "metadata": {},
   "outputs": [
    {
     "data": {
      "text/plain": [
       "False"
      ]
     },
     "execution_count": 30,
     "metadata": {},
     "output_type": "execute_result"
    }
   ],
   "source": [
    "aslı > burak and burak < emine"
   ]
  },
  {
   "cell_type": "code",
   "execution_count": 31,
   "id": "21d163c5",
   "metadata": {},
   "outputs": [
    {
     "data": {
      "text/plain": [
       "True"
      ]
     },
     "execution_count": 31,
     "metadata": {},
     "output_type": "execute_result"
    }
   ],
   "source": [
    "aslı > burak or burak < emine"
   ]
  },
  {
   "cell_type": "code",
   "execution_count": 32,
   "id": "9cc75e0f",
   "metadata": {},
   "outputs": [
    {
     "data": {
      "text/plain": [
       "False"
      ]
     },
     "execution_count": 32,
     "metadata": {},
     "output_type": "execute_result"
    }
   ],
   "source": [
    "aslı > burak or burak > emine"
   ]
  },
  {
   "cell_type": "code",
   "execution_count": 34,
   "id": "df511371",
   "metadata": {},
   "outputs": [
    {
     "data": {
      "text/plain": [
       "True"
      ]
     },
     "execution_count": 34,
     "metadata": {},
     "output_type": "execute_result"
    }
   ],
   "source": [
    "not(aslı > burak)"
   ]
  },
  {
   "cell_type": "markdown",
   "id": "f900c684",
   "metadata": {},
   "source": [
    "**Ödev 3:** Kullanıcıdan iki değer girmesi istenir. Girilen değerlerin toplama, çıkarma, çarpma, bölme sonuuçlarını yazdırır."
   ]
  },
  {
   "cell_type": "code",
   "execution_count": null,
   "id": "c9475dd8",
   "metadata": {},
   "outputs": [],
   "source": [
    "sayi1 = int(input(\"birinci sayıyı giriniz: \"))\n",
    "sayi2 = int(input(\"ikinci sayıyı giriniz: \"))\n",
    "\n",
    "toplama = sayi1 + sayi2\n",
    "cıkarma = sayi1 - sayi2\n",
    "carpma = sayi1 * sayi2\n",
    "bolme = sayi1 / sayi2\n",
    "\n",
    "print(\"Toplama:\",toplama)\n",
    "print(\"Çkarma: \",cıkarma)\n",
    "print(\"Çarpma: \",carpma)\n",
    "print(\"Bölme: \",bolme)"
   ]
  },
  {
   "cell_type": "markdown",
   "id": "060b0bea",
   "metadata": {},
   "source": [
    "**Ödev 4:**\n",
    "Kullanıcıdan isim, yaş, şehir ve meslek bilgilerini istenir ve cevaplarını yazdırılır."
   ]
  },
  {
   "cell_type": "code",
   "execution_count": null,
   "id": "6f5dea59",
   "metadata": {},
   "outputs": [],
   "source": [
    "isim = input(\"İsminizi giriniz: \")\n",
    "yas = yas = input(\"Yaşınızı giriniz: \")\n",
    "sehir = input(\"Yaşadığınız şehri giriniz: \")\n",
    "meslek = input(\"Mesleğinizi giriniz: \")\n",
    "\n",
    "print(\"isim: \", isim)\n",
    "print(\"Yaş: \", yas)\n",
    "print(\"Şehir: \", sehir)\n",
    "print(\"Meslek: \",meslek)"
   ]
  },
  {
   "cell_type": "markdown",
   "id": "55e1a34e",
   "metadata": {},
   "source": [
    "**Ödev 5:**\n",
    "\"Hi-Kod Veri Bilimi Atölyesi\" ifadesini bir değişkene tanımlanır.\n",
    "\n",
    "\n",
    " 1. İfadedeki her bir kelimeyi (\"Hi-Kod\", \"Veri\", \"Bilimi\", \"Atölyesi\") değişken içinden seçilir. \n",
    " 2. İfadeyi hepsini büyük harf olacak hale çevrilir. (\"HI-KOD VERİ BİLİMİ ATÖLYESİ\") \n",
    " 3. İfadeyi hepsini büyük harf olacak hale çevrilir.(\"hi-kod veri bilimi atölyesi\") \n",
    "\n",
    "\"0123456789\" ifadesindeki yalnızca çift sayıları ve yalnızca tek sayıları seçilir. (\"02468\", \"13579\")"
   ]
  },
  {
   "cell_type": "code",
   "execution_count": null,
   "id": "0fc1bc40",
   "metadata": {},
   "outputs": [],
   "source": [
    "atolye = \"Hi-Kod Veri Bilimi Atölyesi\""
   ]
  },
  {
   "cell_type": "code",
   "execution_count": null,
   "id": "372dc618",
   "metadata": {},
   "outputs": [],
   "source": [
    "print(atolye[0:6])"
   ]
  },
  {
   "cell_type": "code",
   "execution_count": null,
   "id": "d5f33a07",
   "metadata": {},
   "outputs": [],
   "source": [
    "print(atolye[7:11])"
   ]
  },
  {
   "cell_type": "code",
   "execution_count": null,
   "id": "f4cbdf4e",
   "metadata": {},
   "outputs": [],
   "source": [
    "print(atolye[12:18])"
   ]
  },
  {
   "cell_type": "code",
   "execution_count": null,
   "id": "aa386ecc",
   "metadata": {},
   "outputs": [],
   "source": [
    "print(atolye[19:])"
   ]
  },
  {
   "cell_type": "code",
   "execution_count": null,
   "id": "a292aa53",
   "metadata": {},
   "outputs": [],
   "source": [
    "atolye.upper()"
   ]
  },
  {
   "cell_type": "code",
   "execution_count": null,
   "id": "0cc7a482",
   "metadata": {},
   "outputs": [],
   "source": [
    "atolye.lower()"
   ]
  },
  {
   "cell_type": "code",
   "execution_count": null,
   "id": "4a98eee3",
   "metadata": {},
   "outputs": [],
   "source": [
    "sayilar = \"0123456789\"\n",
    "sayilar[0:9:2]"
   ]
  },
  {
   "cell_type": "code",
   "execution_count": null,
   "id": "d1d248d5",
   "metadata": {},
   "outputs": [],
   "source": [
    "sayilar[1::2]"
   ]
  }
 ],
 "metadata": {
  "kernelspec": {
   "display_name": "Python 3 (ipykernel)",
   "language": "python",
   "name": "python3"
  },
  "language_info": {
   "codemirror_mode": {
    "name": "ipython",
    "version": 3
   },
   "file_extension": ".py",
   "mimetype": "text/x-python",
   "name": "python",
   "nbconvert_exporter": "python",
   "pygments_lexer": "ipython3",
   "version": "3.11.7"
  }
 },
 "nbformat": 4,
 "nbformat_minor": 5
}
